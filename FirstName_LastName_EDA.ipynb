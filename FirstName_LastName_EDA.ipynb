{
  "nbformat": 4,
  "nbformat_minor": 0,
  "metadata": {
    "colab": {
      "provenance": []
    },
    "kernelspec": {
      "name": "python3",
      "display_name": "Python 3"
    },
    "language_info": {
      "name": "python"
    }
  },
  "cells": [
    {
      "cell_type": "markdown",
      "source": [
        "# Importing required libraries"
      ],
      "metadata": {
        "id": "O61ALlD49w1A"
      }
    },
    {
      "cell_type": "code",
      "source": [
        "import pandas as pd"
      ],
      "metadata": {
        "id": "klFLuyys90pK"
      },
      "execution_count": 1,
      "outputs": []
    },
    {
      "cell_type": "markdown",
      "source": [
        "# Loading the datasets"
      ],
      "metadata": {
        "id": "2CYAruWZ-EDM"
      }
    },
    {
      "cell_type": "code",
      "source": [
        "customers_df = pd.read_csv('Customers.csv')\n",
        "products_df = pd.read_csv('Products.csv')\n",
        "transactions_df = pd.read_csv('Transactions.csv')\n"
      ],
      "metadata": {
        "id": "Bzq2EigG-AOI"
      },
      "execution_count": 2,
      "outputs": []
    },
    {
      "cell_type": "markdown",
      "source": [
        "# 1. Checking for missing values"
      ],
      "metadata": {
        "id": "P5betpe3-K65"
      }
    },
    {
      "cell_type": "code",
      "source": [
        "print(\"Missing values in Customers dataset:\")\n",
        "print(customers_df.isnull().sum())\n",
        "print(\"\\nMissing values in Products dataset:\")\n",
        "print(products_df.isnull().sum())\n",
        "print(\"\\nMissing values in Transactions dataset:\")\n",
        "print(transactions_df.isnull().sum())"
      ],
      "metadata": {
        "colab": {
          "base_uri": "https://localhost:8080/"
        },
        "id": "kHs3AuAE-Kj1",
        "outputId": "345fd658-d1eb-432f-d8e4-eaca236e0835"
      },
      "execution_count": 3,
      "outputs": [
        {
          "output_type": "stream",
          "name": "stdout",
          "text": [
            "Missing values in Customers dataset:\n",
            "CustomerID      0\n",
            "CustomerName    0\n",
            "Region          0\n",
            "SignupDate      0\n",
            "dtype: int64\n",
            "\n",
            "Missing values in Products dataset:\n",
            "ProductID      0\n",
            "ProductName    0\n",
            "Category       0\n",
            "Price          0\n",
            "dtype: int64\n",
            "\n",
            "Missing values in Transactions dataset:\n",
            "TransactionID      0\n",
            "CustomerID         0\n",
            "ProductID          0\n",
            "TransactionDate    0\n",
            "Quantity           0\n",
            "TotalValue         0\n",
            "Price              0\n",
            "dtype: int64\n"
          ]
        }
      ]
    },
    {
      "cell_type": "markdown",
      "source": [
        "# 2. Checking for duplicate rows"
      ],
      "metadata": {
        "id": "wmFRtvP4-Tbg"
      }
    },
    {
      "cell_type": "code",
      "source": [
        "print(\"\\nDuplicate rows in Customers dataset:\", customers_df.duplicated().sum())\n",
        "print(\"Duplicate rows in Products dataset:\", products_df.duplicated().sum())\n",
        "print(\"Duplicate rows in Transactions dataset:\", transactions_df.duplicated().sum())\n"
      ],
      "metadata": {
        "colab": {
          "base_uri": "https://localhost:8080/"
        },
        "id": "9lwTs1d0-HXE",
        "outputId": "4f8cff31-255e-4373-abf1-d8b4bbc4776f"
      },
      "execution_count": 4,
      "outputs": [
        {
          "output_type": "stream",
          "name": "stdout",
          "text": [
            "\n",
            "Duplicate rows in Customers dataset: 0\n",
            "Duplicate rows in Products dataset: 0\n",
            "Duplicate rows in Transactions dataset: 0\n"
          ]
        }
      ]
    },
    {
      "cell_type": "markdown",
      "source": [
        "# 3. Converting date columns to datetime format"
      ],
      "metadata": {
        "id": "tmdSty8i-ahE"
      }
    },
    {
      "cell_type": "code",
      "source": [
        "customers_df['SignupDate'] = pd.to_datetime(customers_df['SignupDate'])\n",
        "transactions_df['TransactionDate'] = pd.to_datetime(transactions_df['TransactionDate'])\n"
      ],
      "metadata": {
        "id": "peSiHReU-W_M"
      },
      "execution_count": 5,
      "outputs": []
    },
    {
      "cell_type": "markdown",
      "source": [
        "# 4. Summary statistics for numeric columns in Products and Transactions datasets"
      ],
      "metadata": {
        "id": "nUL-CIYH-y-Y"
      }
    },
    {
      "cell_type": "code",
      "source": [
        "\n",
        "print(\"\\nSummary statistics for Products dataset:\")\n",
        "print(products_df.describe())\n",
        "print(\"\\nSummary statistics for Transactions dataset:\")\n",
        "print(transactions_df.describe())\n"
      ],
      "metadata": {
        "colab": {
          "base_uri": "https://localhost:8080/"
        },
        "id": "k0f08FFe-mBW",
        "outputId": "1b0c4236-845e-4262-c868-6a845f412c1b"
      },
      "execution_count": 6,
      "outputs": [
        {
          "output_type": "stream",
          "name": "stdout",
          "text": [
            "\n",
            "Summary statistics for Products dataset:\n",
            "            Price\n",
            "count  100.000000\n",
            "mean   267.551700\n",
            "std    143.219383\n",
            "min     16.080000\n",
            "25%    147.767500\n",
            "50%    292.875000\n",
            "75%    397.090000\n",
            "max    497.760000\n",
            "\n",
            "Summary statistics for Transactions dataset:\n",
            "                     TransactionDate     Quantity   TotalValue       Price\n",
            "count                           1000  1000.000000  1000.000000  1000.00000\n",
            "mean   2024-06-23 15:33:02.768999936     2.537000   689.995560   272.55407\n",
            "min              2023-12-30 15:29:12     1.000000    16.080000    16.08000\n",
            "25%       2024-03-25 22:05:34.500000     2.000000   295.295000   147.95000\n",
            "50%       2024-06-26 17:21:52.500000     3.000000   588.880000   299.93000\n",
            "75%              2024-09-19 14:19:57     4.000000  1011.660000   404.40000\n",
            "max              2024-12-28 11:00:00     4.000000  1991.040000   497.76000\n",
            "std                              NaN     1.117981   493.144478   140.73639\n"
          ]
        }
      ]
    },
    {
      "cell_type": "markdown",
      "source": [
        "# 5. Analyzing the price range of products"
      ],
      "metadata": {
        "id": "Uz6rWehj-6_t"
      }
    },
    {
      "cell_type": "code",
      "source": [
        "\n",
        "print(\"\\nPrice range in Products dataset:\")\n",
        "print(\"Minimum Price:\", products_df['Price'].min())\n",
        "print(\"Maximum Price:\", products_df['Price'].max())\n",
        "print(\"Mean Price:\", products_df['Price'].mean())"
      ],
      "metadata": {
        "colab": {
          "base_uri": "https://localhost:8080/"
        },
        "id": "7o5hnAlS-0Z9",
        "outputId": "21ca5f87-11f3-490b-eac7-a9e70de1aa89"
      },
      "execution_count": 7,
      "outputs": [
        {
          "output_type": "stream",
          "name": "stdout",
          "text": [
            "\n",
            "Price range in Products dataset:\n",
            "Minimum Price: 16.08\n",
            "Maximum Price: 497.76\n",
            "Mean Price: 267.55170000000004\n"
          ]
        }
      ]
    },
    {
      "cell_type": "markdown",
      "source": [
        "# 6. Analyzing transaction value and quantity"
      ],
      "metadata": {
        "id": "agxEXpSB_FiL"
      }
    },
    {
      "cell_type": "code",
      "source": [
        "print(\"\\nTransaction details:\")\n",
        "print(\"Minimum Total Value:\", transactions_df['TotalValue'].min())\n",
        "print(\"Maximum Total Value:\", transactions_df['TotalValue'].max())\n",
        "print(\"Mean Total Value:\", transactions_df['TotalValue'].mean())\n",
        "print(\"Minimum Quantity:\", transactions_df['Quantity'].min())\n",
        "print(\"Maximum Quantity:\", transactions_df['Quantity'].max())\n",
        "print(\"Mean Quantity:\", transactions_df['Quantity'].mean())"
      ],
      "metadata": {
        "colab": {
          "base_uri": "https://localhost:8080/"
        },
        "id": "p90nt0z6-8Iy",
        "outputId": "f8cdf4ff-8427-4f32-bb18-1dcbb32f6d73"
      },
      "execution_count": 8,
      "outputs": [
        {
          "output_type": "stream",
          "name": "stdout",
          "text": [
            "\n",
            "Transaction details:\n",
            "Minimum Total Value: 16.08\n",
            "Maximum Total Value: 1991.04\n",
            "Mean Total Value: 689.9955600000001\n",
            "Minimum Quantity: 1\n",
            "Maximum Quantity: 4\n",
            "Mean Quantity: 2.537\n"
          ]
        }
      ]
    },
    {
      "cell_type": "code",
      "source": [],
      "metadata": {
        "id": "rsdyk2_6_HhW"
      },
      "execution_count": null,
      "outputs": []
    }
  ]
}