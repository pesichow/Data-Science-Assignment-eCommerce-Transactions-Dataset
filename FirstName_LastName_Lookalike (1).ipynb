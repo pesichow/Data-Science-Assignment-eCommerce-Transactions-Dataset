{
  "nbformat": 4,
  "nbformat_minor": 0,
  "metadata": {
    "colab": {
      "provenance": []
    },
    "kernelspec": {
      "name": "python3",
      "display_name": "Python 3"
    },
    "language_info": {
      "name": "python"
    }
  },
  "cells": [
    {
      "cell_type": "markdown",
      "source": [
        "#Importing required libraries"
      ],
      "metadata": {
        "id": "Q-RpiCXqK7y0"
      }
    },
    {
      "cell_type": "code",
      "source": [
        "import pandas as pd\n",
        "from sklearn.metrics.pairwise import cosine_similarity\n"
      ],
      "metadata": {
        "id": "Xk4mIHY4CoS3"
      },
      "execution_count": 3,
      "outputs": []
    },
    {
      "cell_type": "markdown",
      "source": [
        "# Load the datasets"
      ],
      "metadata": {
        "id": "c7p8YtgbLIin"
      }
    },
    {
      "cell_type": "code",
      "source": [
        "customers = pd.read_csv('/content/Customers.csv')\n",
        "products = pd.read_csv('/content/Products.csv')\n",
        "transactions = pd.read_csv('/content/Transactions.csv')"
      ],
      "metadata": {
        "id": "f1oBjDBjK67c"
      },
      "execution_count": 4,
      "outputs": []
    },
    {
      "cell_type": "markdown",
      "source": [
        "# Preprocess the datasets"
      ],
      "metadata": {
        "id": "klNzZNMeLRv-"
      }
    },
    {
      "cell_type": "code",
      "source": [
        "customers['SignupDate'] = pd.to_datetime(customers['SignupDate'])\n",
        "transactions['TransactionDate'] = pd.to_datetime(transactions['TransactionDate'])\n"
      ],
      "metadata": {
        "id": "ZbEGxTh-LLGV"
      },
      "execution_count": 5,
      "outputs": []
    },
    {
      "cell_type": "markdown",
      "source": [
        "# Merge datasets: Transactions with Products and Customers"
      ],
      "metadata": {
        "id": "nU5ZO5TYLZOa"
      }
    },
    {
      "cell_type": "code",
      "source": [
        "\n",
        "transactions_products = transactions.merge(products, on='ProductID', how='left')\n",
        "data_merged = transactions_products.merge(customers, on='CustomerID', how='left')\n"
      ],
      "metadata": {
        "id": "pzThR7DqLTyI"
      },
      "execution_count": 6,
      "outputs": []
    },
    {
      "cell_type": "markdown",
      "source": [
        "# Generate features for Lookalike Model"
      ],
      "metadata": {
        "id": "WVRTMAcrLerX"
      }
    },
    {
      "cell_type": "code",
      "source": [
        "\n",
        "customer_features = data_merged.groupby('CustomerID').agg({\n",
        "    'TotalValue': 'sum',  # Total spending\n",
        "    'TransactionID': 'count',  # Number of transactions\n",
        "    'Quantity': 'sum',  # Total items purchased\n",
        "    'Category': lambda x: x.mode()[0]  # Most purchased category\n",
        "}).rename(columns={\n",
        "    'TotalValue': 'TotalSpending',\n",
        "    'TransactionID': 'TransactionCount',\n",
        "    'Quantity': 'TotalItemsPurchased',\n",
        "    'Category': 'PreferredCategory'\n",
        "}).reset_index()"
      ],
      "metadata": {
        "id": "UPFXGRLCLaQY"
      },
      "execution_count": 7,
      "outputs": []
    },
    {
      "cell_type": "markdown",
      "source": [
        "# Normalize numerical features"
      ],
      "metadata": {
        "id": "KyNAVn3vLlUp"
      }
    },
    {
      "cell_type": "code",
      "source": [
        "numerical_features = ['TotalSpending', 'TransactionCount', 'TotalItemsPurchased']\n",
        "customer_features_normalized = customer_features.copy()\n",
        "customer_features_normalized[numerical_features] = (\n",
        "    customer_features[numerical_features] - customer_features[numerical_features].mean()\n",
        ") / customer_features[numerical_features].std()\n"
      ],
      "metadata": {
        "id": "3QonwjpfLfhX"
      },
      "execution_count": 8,
      "outputs": []
    },
    {
      "cell_type": "markdown",
      "source": [
        "# Normalize numerical features"
      ],
      "metadata": {
        "id": "SXcIL3CEL3P3"
      }
    },
    {
      "cell_type": "code",
      "source": [
        "numerical_features = ['TotalSpending', 'TransactionCount', 'TotalItemsPurchased']\n",
        "customer_features_normalized = customer_features.copy()\n",
        "customer_features_normalized[numerical_features] = (\n",
        "    customer_features[numerical_features] - customer_features[numerical_features].mean()\n",
        ") / customer_features[numerical_features].std()"
      ],
      "metadata": {
        "id": "RsccWJLwLoIJ"
      },
      "execution_count": 9,
      "outputs": []
    },
    {
      "cell_type": "code",
      "source": [
        "# Encode categorical features (PreferredCategory)\n",
        "customer_features_encoded = pd.get_dummies(customer_features_normalized, columns=['PreferredCategory'])\n",
        "\n",
        "# Compute cosine similarity\n",
        "similarity_matrix = cosine_similarity(customer_features_encoded.drop(columns=['CustomerID']))\n",
        "similarity_df = pd.DataFrame(similarity_matrix, index=customer_features['CustomerID'], columns=customer_features['CustomerID'])\n"
      ],
      "metadata": {
        "id": "PuI5HKgjL4QY"
      },
      "execution_count": 10,
      "outputs": []
    },
    {
      "cell_type": "code",
      "source": [
        "# Generate Lookalike results for the first 20 customers\n",
        "lookalike_results = {}\n",
        "for customer_id in customer_features['CustomerID'][:20]:\n",
        "    # Get the top 3 most similar customers (excluding self)\n",
        "    similar_customers = similarity_df[customer_id].sort_values(ascending=False).iloc[1:4]\n",
        "    lookalike_results[customer_id] = list(zip(similar_customers.index, similar_customers.values))"
      ],
      "metadata": {
        "id": "_u_UpRsIL85N"
      },
      "execution_count": 11,
      "outputs": []
    },
    {
      "cell_type": "markdown",
      "source": [
        "# Convert results to DataFrame"
      ],
      "metadata": {
        "id": "XplmY_ZSMGoa"
      }
    },
    {
      "cell_type": "code",
      "source": [
        "\n",
        "lookalike_output = []\n",
        "for cust_id, similarities in lookalike_results.items():\n",
        "    for similar_cust_id, score in similarities:\n",
        "        lookalike_output.append({\n",
        "            'CustomerID': cust_id,\n",
        "            'SimilarCustomerID': similar_cust_id,\n",
        "            'SimilarityScore': score\n",
        "        })\n",
        "\n",
        "lookalike_df = pd.DataFrame(lookalike_output)\n",
        "\n",
        "# Save results to CSV\n",
        "lookalike_csv_path = 'FirstName_LastName_Lookalike.csv'\n",
        "lookalike_df.to_csv(lookalike_csv_path, index=False)\n",
        "\n",
        "print(f\"Lookalike results saved to {lookalike_csv_path}\")\n"
      ],
      "metadata": {
        "colab": {
          "base_uri": "https://localhost:8080/"
        },
        "id": "zokteujTMBZo",
        "outputId": "0f096595-fe71-4399-ef2b-89c24c039009"
      },
      "execution_count": 12,
      "outputs": [
        {
          "output_type": "stream",
          "name": "stdout",
          "text": [
            "Lookalike results saved to FirstName_LastName_Lookalike.csv\n"
          ]
        }
      ]
    },
    {
      "cell_type": "code",
      "source": [],
      "metadata": {
        "id": "OUFpRgjTMHYs"
      },
      "execution_count": null,
      "outputs": []
    }
  ]
}