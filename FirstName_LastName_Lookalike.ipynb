{
  "nbformat": 4,
  "nbformat_minor": 0,
  "metadata": {
    "colab": {
      "provenance": []
    },
    "kernelspec": {
      "name": "python3",
      "display_name": "Python 3"
    },
    "language_info": {
      "name": "python"
    }
  },
  "cells": [
    {
      "cell_type": "code",
      "execution_count": 2,
      "metadata": {
        "colab": {
          "base_uri": "https://localhost:8080/"
        },
        "id": "rZ-bk8Sy_0fS",
        "outputId": "ae924e08-5b76-4584-ef18-23012be9f32a"
      },
      "outputs": [
        {
          "output_type": "stream",
          "name": "stdout",
          "text": [
            "Lookalike results saved to FirstName_LastName_Lookalike.csv\n"
          ]
        }
      ],
      "source": [
        "import pandas as pd\n",
        "from sklearn.metrics.pairwise import cosine_similarity\n",
        "\n",
        "# Load the datasets\n",
        "customers = pd.read_csv('/content/Customers.csv')\n",
        "products = pd.read_csv('/content/Products.csv')\n",
        "transactions = pd.read_csv('/content/Transactions.csv')\n",
        "\n",
        "# Preprocess the datasets\n",
        "customers['SignupDate'] = pd.to_datetime(customers['SignupDate'])\n",
        "transactions['TransactionDate'] = pd.to_datetime(transactions['TransactionDate'])\n",
        "\n",
        "# Merge datasets: Transactions with Products and Customers\n",
        "transactions_products = transactions.merge(products, on='ProductID', how='left')\n",
        "data_merged = transactions_products.merge(customers, on='CustomerID', how='left')\n",
        "\n",
        "# Generate features for Lookalike Model\n",
        "customer_features = data_merged.groupby('CustomerID').agg({\n",
        "    'TotalValue': 'sum',  # Total spending\n",
        "    'TransactionID': 'count',  # Number of transactions\n",
        "    'Quantity': 'sum',  # Total items purchased\n",
        "    'Category': lambda x: x.mode()[0]  # Most purchased category\n",
        "}).rename(columns={\n",
        "    'TotalValue': 'TotalSpending',\n",
        "    'TransactionID': 'TransactionCount',\n",
        "    'Quantity': 'TotalItemsPurchased',\n",
        "    'Category': 'PreferredCategory'\n",
        "}).reset_index()\n",
        "\n",
        "# Normalize numerical features\n",
        "numerical_features = ['TotalSpending', 'TransactionCount', 'TotalItemsPurchased']\n",
        "customer_features_normalized = customer_features.copy()\n",
        "customer_features_normalized[numerical_features] = (\n",
        "    customer_features[numerical_features] - customer_features[numerical_features].mean()\n",
        ") / customer_features[numerical_features].std()\n",
        "\n",
        "# Encode categorical features (PreferredCategory)\n",
        "customer_features_encoded = pd.get_dummies(customer_features_normalized, columns=['PreferredCategory'])\n",
        "\n",
        "# Compute cosine similarity\n",
        "similarity_matrix = cosine_similarity(customer_features_encoded.drop(columns=['CustomerID']))\n",
        "similarity_df = pd.DataFrame(similarity_matrix, index=customer_features['CustomerID'], columns=customer_features['CustomerID'])\n",
        "\n",
        "# Generate Lookalike results for the first 20 customers\n",
        "lookalike_results = {}\n",
        "for customer_id in customer_features['CustomerID'][:20]:\n",
        "    # Get the top 3 most similar customers (excluding self)\n",
        "    similar_customers = similarity_df[customer_id].sort_values(ascending=False).iloc[1:4]\n",
        "    lookalike_results[customer_id] = list(zip(similar_customers.index, similar_customers.values))\n",
        "\n",
        "# Convert results to DataFrame\n",
        "lookalike_output = []\n",
        "for cust_id, similarities in lookalike_results.items():\n",
        "    for similar_cust_id, score in similarities:\n",
        "        lookalike_output.append({\n",
        "            'CustomerID': cust_id,\n",
        "            'SimilarCustomerID': similar_cust_id,\n",
        "            'SimilarityScore': score\n",
        "        })\n",
        "\n",
        "lookalike_df = pd.DataFrame(lookalike_output)\n",
        "\n",
        "# Save results to CSV\n",
        "lookalike_csv_path = 'FirstName_LastName_Lookalike.csv'\n",
        "lookalike_df.to_csv(lookalike_csv_path, index=False)\n",
        "\n",
        "print(f\"Lookalike results saved to {lookalike_csv_path}\")\n"
      ]
    },
    {
      "cell_type": "code",
      "source": [],
      "metadata": {
        "id": "Xk4mIHY4CoS3"
      },
      "execution_count": null,
      "outputs": []
    }
  ]
}